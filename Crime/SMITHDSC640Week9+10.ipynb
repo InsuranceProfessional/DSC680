{
 "cells": [
  {
   "cell_type": "code",
   "execution_count": null,
   "id": "720b72e4",
   "metadata": {},
   "outputs": [],
   "source": [
    "import pandas as pd\n",
    "\n",
    "file_path = f\"C:\\\\Users\\\\champ\\\\Downloads\\\\us_retail_sales.csv\"\n",
    "df = pd.read_csv(file_path, encoding='ISO-8859-1')\n",
    "df.head()"
   ]
  }
 ],
 "metadata": {
  "language_info": {
   "name": "python"
  }
 },
 "nbformat": 4,
 "nbformat_minor": 5
}
